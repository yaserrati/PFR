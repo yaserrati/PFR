{
 "cells": [
  {
   "cell_type": "code",
   "execution_count": 1,
   "metadata": {},
   "outputs": [],
   "source": [
    "import findspark\n",
    "findspark.init()\n",
    "import os\n",
    "import pandas as pd\n",
    "from pyspark.sql import SparkSession\n",
    "from pyspark.sql.types import StructType, StructField, IntegerType, FloatType\n",
    "from dotenv import load_dotenv\n",
    "\n",
    "load_dotenv()\n",
    "\n",
    "# Create a Spark session\n",
    "spark = SparkSession.builder.appName(\"ProductRatings\").getOrCreate()\n",
    "\n",
    "def get_rating_data():\n",
    "    schema = StructType([\n",
    "        StructField(\"customer_id\", IntegerType(), True),\n",
    "        StructField(\"product_id\", IntegerType(), True),\n",
    "        StructField(\"rating\", FloatType(), True)\n",
    "                ])\n",
    "    data = spark.read.csv(os.getenv('BASE_PROJECT_PATH') + 'data.data', sep=',', schema=schema, header=False)\n",
    "    return data"
   ]
  },
  {
   "cell_type": "code",
   "execution_count": 2,
   "metadata": {},
   "outputs": [
    {
     "name": "stdout",
     "output_type": "stream",
     "text": [
      "Number of records in the training set: 4050\n",
      "Training set schema:\n",
      "root\n",
      " |-- customer_id: integer (nullable = true)\n",
      " |-- product_id: integer (nullable = true)\n",
      " |-- rating: float (nullable = true)\n",
      "\n",
      "Root Mean Squared Error (RMSE) on test data = 1.617305881987267\n",
      "R Squared (R2) on test data = -1.1498870175975955\n",
      "Mean Squared Error (MSE) on test data = 2.615678315910612\n"
     ]
    }
   ],
   "source": [
    "from pyspark.ml.evaluation import RegressionEvaluator\n",
    "from pyspark.ml.recommendation import ALS\n",
    "from pyspark.ml.tuning import TrainValidationSplit, ParamGridBuilder\n",
    "\n",
    "# Load the data\n",
    "data = get_rating_data()\n",
    "\n",
    "# Split the data into training and testing sets\n",
    "(training, test) = data.randomSplit([0.8, 0.2], seed=42)\n",
    "\n",
    "# Build the ALS model\n",
    "als = ALS(userCol=\"customer_id\", itemCol=\"product_id\", ratingCol=\"rating\", coldStartStrategy=\"drop\")\n",
    "\n",
    "# Define a parameter grid for hyperparameter tuning\n",
    "param_grid = ParamGridBuilder() \\\n",
    "    .addGrid(als.rank, [20, 30, 40]) \\\n",
    "    .addGrid(als.maxIter, [15, 18, 20]) \\\n",
    "    .addGrid(als.regParam, [0.2, 0.3, 0.5]) \\\n",
    "    .build()\n",
    "\n",
    "# Define an evaluators \n",
    "evaluator_rmse = RegressionEvaluator(metricName=\"rmse\", labelCol=\"rating\", predictionCol=\"prediction\")\n",
    "evaluator_r2 = RegressionEvaluator(metricName=\"r2\", labelCol=\"rating\", predictionCol=\"prediction\")\n",
    "evaluator_mse = RegressionEvaluator(metricName=\"mse\", labelCol=\"rating\", predictionCol=\"prediction\")\n",
    "\n",
    "# Use TrainValidationSplit to choose the best combination of parameters\n",
    "tvs = TrainValidationSplit(estimator=als,\n",
    "                           estimatorParamMaps=param_grid,\n",
    "                           evaluator=evaluator_rmse,\n",
    "                           trainRatio=0.8)\n",
    "\n",
    "\n",
    "print(\"Number of records in the training set:\", training.count())\n",
    "print(\"Training set schema:\")\n",
    "training.printSchema()\n",
    "\n",
    "\n",
    "# Train the model\n",
    "model = tvs.fit(training)\n",
    "\n",
    "# Make predictions on the test set\n",
    "predictions = model.transform(test)\n",
    "\n",
    "# Evaluate the model\n",
    "rmse = evaluator_rmse.evaluate(predictions)\n",
    "r2 = evaluator_r2.evaluate(predictions)\n",
    "mse = evaluator_mse.evaluate(predictions)\n",
    "\n",
    "print(\"Root Mean Squared Error (RMSE) on test data =\", rmse)\n",
    "print(\"R Squared (R2) on test data =\", r2)\n",
    "print(\"Mean Squared Error (MSE) on test data =\", mse)"
   ]
  },
  {
   "cell_type": "code",
   "execution_count": 3,
   "metadata": {},
   "outputs": [
    {
     "name": "stdout",
     "output_type": "stream",
     "text": [
      "Best Rank: 30\n",
      "Best Max Iter: 18\n",
      "Best Reg Param: 0.3\n"
     ]
    }
   ],
   "source": [
    "# Get the best model from the tuning\n",
    "best_model = model.bestModel\n",
    "\n",
    "# Get the best combination of hyperparameters\n",
    "best_rank = best_model.rank\n",
    "best_max_iter = best_model._java_obj.parent().getMaxIter()\n",
    "best_reg_param = best_model._java_obj.parent().getRegParam()\n",
    "\n",
    "# Print the best hyperparameters\n",
    "print(\"Best Rank:\", best_rank)\n",
    "print(\"Best Max Iter:\", best_max_iter)\n",
    "print(\"Best Reg Param:\", best_reg_param)"
   ]
  },
  {
   "cell_type": "code",
   "execution_count": 4,
   "metadata": {},
   "outputs": [],
   "source": [
    "# Save the model to a new path\n",
    "model.bestModel.write().save(os.getenv('als_model') + 'best_model')"
   ]
  },
  {
   "cell_type": "code",
   "execution_count": 11,
   "metadata": {},
   "outputs": [
    {
     "name": "stdout",
     "output_type": "stream",
     "text": [
      "+-----------+--------------------------------------------------------------------------------------------------------------------------------------------------------------------------+\n",
      "|customer_id|recommendations                                                                                                                                                           |\n",
      "+-----------+--------------------------------------------------------------------------------------------------------------------------------------------------------------------------+\n",
      "|1          |[{15, 0.9255558}, {4, 0.92176926}, {13, 0.7850331}, {21, 0.78123623}, {17, 0.76684755}, {18, 0.7440187}, {14, 0.7237903}, {2, 0.7121044}, {10, 0.711445}, {19, 0.7088011}]|\n",
      "|2          |[{21, 2.81583}, {18, 1.9832426}, {3, 1.9223797}, {15, 1.9175744}, {13, 1.9149837}, {4, 1.8535999}, {10, 1.8357399}, {7, 1.8019316}, {17, 1.7964588}, {5, 1.7505347}]      |\n",
      "|3          |[{1, 1.7382505}, {9, 1.2178743}, {12, 1.2083862}, {10, 1.1471294}, {3, 1.1191049}, {18, 1.1187603}, {21, 1.1074789}, {14, 1.1026107}, {8, 1.0627667}, {7, 1.0525422}]     |\n",
      "|4          |[{13, 3.7465696}, {4, 2.943616}, {21, 2.6351445}, {3, 2.6122453}, {6, 2.5482492}, {5, 2.5264502}, {10, 2.5185764}, {20, 2.4147213}, {12, 2.2936404}, {18, 2.273522}]      |\n",
      "|5          |[{16, 2.8112512}, {20, 1.8607136}, {3, 1.7160928}, {6, 1.6982777}, {18, 1.6898481}, {15, 1.6717556}, {19, 1.6701485}, {11, 1.6295162}, {1, 1.5960864}, {10, 1.5908123}]   |\n",
      "|6          |[{13, 3.6026812}, {4, 3.0367265}, {11, 2.8442779}, {21, 2.7845404}, {10, 2.769492}, {5, 2.73754}, {6, 2.7190583}, {3, 2.6377609}, {18, 2.6105106}, {20, 2.5780592}]       |\n",
      "|7          |[{11, 2.8090613}, {7, 2.0366812}, {18, 2.031338}, {10, 1.9501374}, {9, 1.868833}, {14, 1.8633641}, {5, 1.8566434}, {12, 1.8226175}, {4, 1.788414}, {19, 1.7738281}]       |\n",
      "|8          |[{12, 1.7651261}, {5, 1.4812725}, {18, 1.3496718}, {7, 1.3014084}, {1, 1.275597}, {15, 1.2651863}, {11, 1.2372861}, {9, 1.2208787}, {13, 1.1614217}, {14, 1.1591682}]     |\n",
      "|9          |[{5, 2.7572894}, {1, 2.7412443}, {12, 2.7171903}, {18, 2.3677816}, {13, 2.3564575}, {9, 2.349223}, {21, 2.3462436}, {7, 2.3219943}, {3, 2.2684016}, {11, 2.2603154}]      |\n",
      "|10         |[{8, 1.8710108}, {18, 1.3599892}, {2, 1.2506641}, {17, 1.1995093}, {7, 1.1870563}, {3, 1.1735269}, {20, 1.157756}, {9, 1.1524042}, {11, 1.1270448}, {1, 1.108976}]        |\n",
      "+-----------+--------------------------------------------------------------------------------------------------------------------------------------------------------------------------+\n",
      "only showing top 10 rows\n",
      "\n",
      "None\n"
     ]
    }
   ],
   "source": [
    "# load the model\n",
    "from pyspark.ml.recommendation import ALSModel\n",
    "\n",
    "model1 = ALSModel.load(os.getenv('als_model') + 'best_model_als')\n",
    "\n",
    "# Make recommendations for users\n",
    "userRecs = model1.recommendForAllUsers(10)\n",
    "\n",
    "print(userRecs.show(10, False))"
   ]
  }
 ],
 "metadata": {
  "kernelspec": {
   "display_name": "Python 3",
   "language": "python",
   "name": "python3"
  },
  "language_info": {
   "codemirror_mode": {
    "name": "ipython",
    "version": 3
   },
   "file_extension": ".py",
   "mimetype": "text/x-python",
   "name": "python",
   "nbconvert_exporter": "python",
   "pygments_lexer": "ipython3",
   "version": "3.9.13"
  }
 },
 "nbformat": 4,
 "nbformat_minor": 2
}
